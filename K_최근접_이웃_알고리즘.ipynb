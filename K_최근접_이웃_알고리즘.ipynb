{
  "nbformat": 4,
  "nbformat_minor": 0,
  "metadata": {
    "colab": {
      "name": "K-최근접 이웃 알고리즘",
      "provenance": [],
      "toc_visible": true,
      "authorship_tag": "ABX9TyPKGugT0dXSDcH4m7PfQI2a",
      "include_colab_link": true
    },
    "kernelspec": {
      "name": "python3",
      "display_name": "Python 3"
    },
    "language_info": {
      "name": "python"
    }
  },
  "cells": [
    {
      "cell_type": "markdown",
      "metadata": {
        "id": "view-in-github",
        "colab_type": "text"
      },
      "source": [
        "<a href=\"https://colab.research.google.com/github/Yumpop/colab_test/blob/main/K_%EC%B5%9C%EA%B7%BC%EC%A0%91_%EC%9D%B4%EC%9B%83_%EC%95%8C%EA%B3%A0%EB%A6%AC%EC%A6%98.ipynb\" target=\"_parent\"><img src=\"https://colab.research.google.com/assets/colab-badge.svg\" alt=\"Open In Colab\"/></a>"
      ]
    },
    {
      "cell_type": "markdown",
      "source": [
        "# K -최근접 이웃 알고리즘"
      ],
      "metadata": {
        "id": "G19AiV-p_9G8"
      }
    },
    {
      "cell_type": "markdown",
      "source": [
        "- 특성(feature) : 데이터의 특징"
      ],
      "metadata": {
        "id": "9NFL_Y45sxVf"
      }
    },
    {
      "cell_type": "code",
      "execution_count": null,
      "metadata": {
        "id": "WY5O-phjrAmw"
      },
      "outputs": [],
      "source": [
        "# if fish_length>=30:\n",
        "#   print('도미')\n",
        "\n",
        "bream_length = [25.4, 26.3, 26.5, 29.0, 29.0, 29.7, 29.7, 30.0, 30.0, 30.7, 31.0, 31.0, \n",
        "                31.5, 32.0, 32.0, 32.0, 33.0, 33.0, 33.5, 33.5, 34.0, 34.0, 34.5, 35.0, \n",
        "                35.0, 35.0, 35.0, 36.0, 36.0, 37.0, 38.5, 38.5, 39.5, 41.0, 41.0]\n",
        "bream_weight = [242.0, 290.0, 340.0, 363.0, 430.0, 450.0, 500.0, 390.0, 450.0, 500.0, 475.0, 500.0, \n",
        "                500.0, 340.0, 600.0, 600.0, 700.0, 700.0, 610.0, 650.0, 575.0, 685.0, 620.0, 680.0, \n",
        "                700.0, 725.0, 720.0, 714.0, 850.0, 1000.0, 920.0, 955.0, 925.0, 975.0, 950.0]"
      ]
    },
    {
      "cell_type": "markdown",
      "source": [
        "**선형** :  산점도의 그래프가 일직선의 가까운 형태"
      ],
      "metadata": {
        "id": "bYVo-vPyuIm2"
      }
    },
    {
      "cell_type": "code",
      "source": [
        "import matplotlib.pyplot as plt # matplotlib 의 pylot 함수를 plt롤 줄여서 사용\n",
        "\n",
        "plt.scatter(bream_length, bream_weight)\n",
        "plt.xlabel('length')\n",
        "plt.ylabel('weight')\n",
        "plt.show()\n"
      ],
      "metadata": {
        "colab": {
          "base_uri": "https://localhost:8080/",
          "height": 279
        },
        "id": "5KXXwFMRsrtX",
        "outputId": "0264d638-4283-41a1-9385-e69695438133"
      },
      "execution_count": null,
      "outputs": [
        {
          "output_type": "display_data",
          "data": {
            "image/png": "[encoded data removed]",
            "text/plain": [
              "<Figure size 432x288 with 1 Axes>"
            ]
          },
          "metadata": {
            "needs_background": "light"
          }
        }
      ]
    },
    {
      "cell_type": "markdown",
      "source": [
        "**matplotlib** 에서 2개의 산점도를 한 그래프로 나타내기"
      ],
      "metadata": {
        "id": "JXpyuKaJvIPG"
      }
    },
    {
      "cell_type": "code",
      "source": [
        "smelt_length = [9.8, 10.5, 10.6, 11.0, 11.2, 11.3, 11.8, 11.8, 12.0, 12.2, 12.4, 13.0, 14.3, 15.0]\n",
        "smelt_weight = [6.7, 7.5, 7.0, 9.7, 9.8, 8.7, 10.0, 9.9, 9.8, 12.2, 13.4, 12.2, 19.7, 19.9]\n",
        "\n",
        "plt.scatter(bream_length, bream_weight)\n",
        "plt.scatter(smelt_length, smelt_weight)\n",
        "plt.xlabel('length')\n",
        "plt.ylabel('weigth')\n",
        "plt.show()\n"
      ],
      "metadata": {
        "colab": {
          "base_uri": "https://localhost:8080/",
          "height": 279
        },
        "id": "E0WzHateub6R",
        "outputId": "e2469f44-f36d-4891-d398-c369e20d63d6"
      },
      "execution_count": null,
      "outputs": [
        {
          "output_type": "display_data",
          "data": {
            "image/png": "[encoded data removed]",
            "text/plain": [
              "<Figure size 432x288 with 1 Axes>"
            ]
          },
          "metadata": {
            "needs_background": "light"
          }
        }
      ]
    },
    {
      "cell_type": "markdown",
      "source": [
        "- 지금 사용하는 머신러닝 패키지가 사이킷런 이므로 각 특성의 리스트들을 세로방향의 **2차원 리스트**를 만들어야함\n",
        "\n",
        "- zip 함수 : 나열된 리스트에서 원소를 하나씩 꺼내주는 역할"
      ],
      "metadata": {
        "id": "r-rPPJ9XwEFk"
      }
    },
    {
      "cell_type": "code",
      "source": [
        "length = bream_length + smelt_length\n",
        "weight = bream_weight + smelt_weight\n",
        "\n",
        "fish_data = [[l,w] for l,w in zip(length, weight)]\n",
        "\n",
        "print(fish_data)"
      ],
      "metadata": {
        "id": "JkGyQfqYvj7r"
      },
      "execution_count": null,
      "outputs": []
    },
    {
      "cell_type": "markdown",
      "source": [
        "- kn의 객체에 fish_data와 fist_targat을 전달해서 도미를 찾기위한 기준을 학습시키기<br/>\n",
        "  위 과정을 훈련(training)라고 부른다 <br/>\n",
        "  사이킷 런에서는 fit()함수가 이 역할을 함\n",
        "\n",
        "- score()  = 사이킷 런에서 모델을 평가하는 메서드 <br/>\n",
        "- score()함수로 나온 값을 정확도라고 함 (범위는 0~1 사이)\n"
      ],
      "metadata": {
        "id": "tMaJWw9tz-gY"
      }
    },
    {
      "cell_type": "code",
      "source": [
        "fish_targat = [1] * 35 + [0] * 14\n",
        "# print(fish_targat)\n",
        "\n",
        "from sklearn.neighbors import KNeighborsClassifier\n",
        "kn = KNeighborsClassifier()\n",
        "\n",
        "kn.fit(fish_data, fish_targat)\n",
        "kn.score(fish_data, fish_targat)"
      ],
      "metadata": {
        "colab": {
          "base_uri": "https://localhost:8080/"
        },
        "id": "FXd1PpJixIwh",
        "outputId": "834f0280-1b4a-4c9f-cf83-652c909dbf3d"
      },
      "execution_count": null,
      "outputs": [
        {
          "output_type": "execute_result",
          "data": {
            "text/plain": [
              "1.0"
            ]
          },
          "metadata": {},
          "execution_count": 24
        }
      ]
    },
    {
      "cell_type": "markdown",
      "source": [
        "### k - 최근접 이웃 알고리즘 <br/>\n",
        "- 원리 : 어떤 데이터에 대한 값을 구할 때 주변의 다른 데이터를 보고 다수를 차지하는 데이터를 정답으로 사용\n",
        "\n",
        "- predict() : 새로운 정답을 예측, fit() 함수와 마찬가지로 2중리스트로 전달해야함 <br/>\n",
        " 반횐된 값 array([1]) 에서 array는 나중에 설명!"
      ],
      "metadata": {
        "id": "dDi5RLWX1kBC"
      }
    },
    {
      "cell_type": "code",
      "source": [
        "kn.predict([[30,600]])"
      ],
      "metadata": {
        "colab": {
          "base_uri": "https://localhost:8080/"
        },
        "id": "UXgORZ7V2K2H",
        "outputId": "510d1ee9-77e2-462d-9dc5-d6301b593014"
      },
      "execution_count": null,
      "outputs": [
        {
          "output_type": "execute_result",
          "data": {
            "text/plain": [
              "array([1])"
            ]
          },
          "metadata": {},
          "execution_count": 25
        }
      ]
    },
    {
      "cell_type": "markdown",
      "source": [
        "- k - 최근접 이웃 알고리즘 특징\n",
        "1. 새로운 데이터를 예측할 때는 가장 가까운 직선거리의 데이터만 확인\n",
        "2. 1의 특성으로 데이터가 많이 있는 경우 사용하기 어려움 (메모리가 많이 필요하고 직선거리 계산하는데 많은시간 필요함)\n",
        "3. 실제로 훈련되는 과정이 없음\n",
        "  - fit()메서드에 전달된 데이터를 가지고 새로운 데이터가 나타나면 가까운 데이터를 참고만 한다\n",
        "\n",
        "- 몇개의 데이터를 참고하는가  -- 기본값은 5이다. <br/>\n",
        "- 이 값은 n_neighbors매개변수로 변경 가능하다. \n",
        "\n",
        "만약 데이터를 49개 참고하게 된다면 어떤 데이터를 넣어도 도미로 예측 할 것<br/>\n",
        "(49개의 데이터중 35개가 도미이기 때문)"
      ],
      "metadata": {
        "id": "YT2A1Uc52xr_"
      }
    },
    {
      "cell_type": "code",
      "source": [
        "kn49 = KNeighborsClassifier(n_neighbors=49)\n",
        "kn49.fit(fish_data, fish_targat)\n",
        "kn49.score(fish_data, fish_targat)\n",
        "print(35/49)"
      ],
      "metadata": {
        "colab": {
          "base_uri": "https://localhost:8080/"
        },
        "id": "kHyI1wnb3YFL",
        "outputId": "2c2e7852-b10b-4d55-a9c9-119bc178d33b"
      },
      "execution_count": null,
      "outputs": [
        {
          "output_type": "stream",
          "name": "stdout",
          "text": [
            "0.7142857142857143\n"
          ]
        }
      ]
    },
    {
      "cell_type": "markdown",
      "source": [
        "위 셀에서 kn49.score(fish_data, fish_targat) 값과 print(35/49)값 둘다 출력 안 되는 이유\n",
        "<br/> -- 코드 셀은 마지막 실행 코드의 반환값만 자동 출력"
      ],
      "metadata": {
        "id": "QGCGIZqr6W6S"
      }
    },
    {
      "cell_type": "code",
      "source": [
        "for i in range(5,50):\n",
        "  # k 최근접 이웃 개수 설정\n",
        "  kn.n_neighbors = i  # 함수 사용방법 알기 \n",
        "  # 점수 계산\n",
        "  score = kn.score(fish_data, fish_targat)\n",
        "  if score < 1:\n",
        "    print(i, score)\n",
        "    break"
      ],
      "metadata": {
        "colab": {
          "base_uri": "https://localhost:8080/"
        },
        "id": "5uvnf-ZD7xZ7",
        "outputId": "fbdeffab-bc8a-44eb-cf3f-49b298e8340e"
      },
      "execution_count": null,
      "outputs": [
        {
          "output_type": "stream",
          "name": "stdout",
          "text": [
            "18 0.9795918367346939\n"
          ]
        }
      ]
    },
    {
      "cell_type": "markdown",
      "source": [
        "# 훈련세트와 테스트 세트 - 새로운 파일에서 시작하기\n",
        "<br/> \n",
        "깃허브 연동법 알고 나서 하기"
      ],
      "metadata": {
        "id": "mpp798IP_tfx"
      }
    },
    {
      "cell_type": "markdown",
      "source": [
        "- 머신러닝은 크게 지도학습과 비지도 학습으로 나뉜다. \n",
        "- 지도학습에서는 **입력(데이터)** 와 **타깃(정답)**이 있고 이 둘을 합쳐 **훈련데이터**라 부른다\n",
        "- 비지도 학습은 타깃없이 데이터만 사용, 나중(6장)에서 공부할 예정\n",
        "- 또한 강화학습이라는 것도 있는데 이 내용은 책에 안나옴\n",
        "<br/>\n",
        "\n",
        "- 위 모델에서는 훈련세트와 테스트세트가 같기 때문에 정확도가 100%가 나옴"
      ],
      "metadata": {
        "id": "yRO_dpXe_x-i"
      }
    },
    {
      "cell_type": "code",
      "source": [
        "fish_length = [25.4, 26.3, 26.5, 29.0, 29.0, 29.7, 29.7, 30.0, 30.0, 30.7, 31.0, 31.0, \n",
        "                31.5, 32.0, 32.0, 32.0, 33.0, 33.0, 33.5, 33.5, 34.0, 34.0, 34.5, 35.0, \n",
        "                35.0, 35.0, 35.0, 36.0, 36.0, 37.0, 38.5, 38.5, 39.5, 41.0, 41.0, 9.8, \n",
        "                10.5, 10.6, 11.0, 11.2, 11.3, 11.8, 11.8, 12.0, 12.2, 12.4, 13.0, 14.3, 15.0]\n",
        "fish_weight = [242.0, 290.0, 340.0, 363.0, 430.0, 450.0, 500.0, 390.0, 450.0, 500.0, 475.0, 500.0, \n",
        "                500.0, 340.0, 600.0, 600.0, 700.0, 700.0, 610.0, 650.0, 575.0, 685.0, 620.0, 680.0, \n",
        "                700.0, 725.0, 720.0, 714.0, 850.0, 1000.0, 920.0, 955.0, 925.0, 975.0, 950.0, 6.7, \n",
        "                7.5, 7.0, 9.7, 9.8, 8.7, 10.0, 9.9, 9.8, 12.2, 13.4, 12.2, 19.7, 19.9]"
      ],
      "metadata": {
        "id": "Ww3yEM8WB7D0"
      },
      "execution_count": null,
      "outputs": []
    },
    {
      "cell_type": "markdown",
      "source": [
        "하나의 생선데이터를 **샘플** 이라고 함<br/>\n",
        "그래서 총 49개의 샘플이 존대하므로 처음 35개를 훈련세트로, 14개를 테스트세트로 사용"
      ],
      "metadata": {
        "id": "AmT8auAGvhSA"
      }
    },
    {
      "cell_type": "code",
      "source": [
        "fish_data = [[l, w] for l, w in zip(fish_length, fish_weight)]\n",
        "fish_target = [1]*35 + [0]*14\n",
        "\n",
        "from sklearn.neighbors import KNeighborsClassifier\n",
        "kn = KNeighborsClassifier()\n",
        "\n",
        "train_input = fish_data[:35]\n",
        "train_target = fish_target[:35]\n",
        "\n",
        "test_input = fish_data[35:]\n",
        "test_target = fish_target[35:]\n",
        "\n",
        "kn = kn.fit(train_input, train_target)\n",
        "kn.score(test_input, test_target)\n"
      ],
      "metadata": {
        "id": "KUivzqDBCUjp",
        "colab": {
          "base_uri": "https://localhost:8080/"
        },
        "outputId": "5f1e42d8-2a21-4f6f-b818-f28a89468627"
      },
      "execution_count": null,
      "outputs": [
        {
          "output_type": "execute_result",
          "data": {
            "text/plain": [
              "0.0"
            ]
          },
          "metadata": {},
          "execution_count": 7
        }
      ]
    },
    {
      "cell_type": "markdown",
      "source": [
        "***샘플링 편향 (sampling bias)***\n",
        "- 테스트 세트에 특정 종류의 샘플이 과도하게 많으면 제대로 된 지도학습모델을 못 만듬\n",
        "- 위 모델에서는 빙어샘플만 테스트 모델에 들어갔고 도미샘플은 훈련모델에만 들어가서 샘플링편향이 생김"
      ],
      "metadata": {
        "id": "3M-lh6rp1pI1"
      }
    },
    {
      "cell_type": "markdown",
      "source": [
        "###넘파이\n",
        "- python의 대표 배열 라이브러리, 고차원의 배열을 주로 다루는데 사용\n",
        "- seed() = 초깃값이 같으면 동일한 난수를 뽑을 수 있다.\n",
        "- arange(시작숫자, 종료숫자, 간격) = 일정한 간격의 정수, 실수배열 만들기\n",
        "- shuffle() = 주어진 배열을 랜덤하게 섞기, 다차원 배열일 경우 행에 대해서만 섞기\n"
      ],
      "metadata": {
        "id": "wPsPnGTG3Tnj"
      }
    },
    {
      "cell_type": "code",
      "source": [
        "import numpy as np\n",
        "\n",
        "input_arr = np.array(fish_data) #2차원 리스트를 numpy배열로 바꾸기\n",
        "targat_arr = np.array(fish_targat) # 2차원 리스트의 샘플(행), 특성(열)을 알 수 있다. \n",
        "\n",
        "#print(input_arr) \n",
        "#print(input_arr.shape) \n",
        "\n",
        "np.random.seed(42)  # random함수는 매번 수행할때마다 다른 값을 생성, 일정한 결과를 얻기 위해 random.seed함수 사용\n",
        "index = np.arange(49)  # 0~48까지 총 49개의 인덱스를 생성\n",
        "np.random.shuffle(index) # 무작위로 섞기\n",
        "\n",
        "# print(index)\n",
        "print(input_arr[[1,3]]) # 배열 인덱싱"
      ],
      "metadata": {
        "colab": {
          "base_uri": "https://localhost:8080/"
        },
        "id": "7GXIpHbA3d17",
        "outputId": "e78e48ab-08a7-4ebc-f164-47dc23aaa869"
      },
      "execution_count": null,
      "outputs": [
        {
          "output_type": "stream",
          "name": "stdout",
          "text": [
            "[[ 26.3 290. ]\n",
            " [ 29.  363. ]]\n"
          ]
        }
      ]
    },
    {
      "cell_type": "markdown",
      "source": [
        "numpy는 슬라이싱 외에 배열 인덱싱을 사용할수 있다.\n",
        "<br/>\n"
      ],
      "metadata": {
        "id": "o-AiTJt454Cz"
      }
    },
    {
      "cell_type": "code",
      "source": [
        "from numpy.lib.polynomial import poly\n",
        "train_input = input_arr[index[:35]]\n",
        "train_targat = targat_arr[index[:35]]\n",
        "\n",
        "# print(input_arr[13], train_input[0]) # 만들어진 인덱스중 0번째 인덱스가 13\n",
        "\n",
        "test_input = input_arr[index[35:]]\n",
        "test_targat = targat_arr[index[35:]]\n",
        "\n",
        "import matplotlib.pyplot as plt\n",
        "plt.scatter(train_input[:,0], train_input[:,1])\n",
        "plt.scatter(test_input[:,0], test_input[:,1])\n",
        "plt.xlabel('length')\n",
        "plt.ylabel('weight')\n",
        "plt.show()\n"
      ],
      "metadata": {
        "colab": {
          "base_uri": "https://localhost:8080/",
          "height": 279
        },
        "id": "7LB0mrDR6Nzr",
        "outputId": "8ba270c9-6349-47a3-ff2d-9a412190d5e3"
      },
      "execution_count": null,
      "outputs": [
        {
          "output_type": "display_data",
          "data": {
            "image/png": "[encoded data removed]",
            "text/plain": [
              "<Figure size 432x288 with 1 Axes>"
            ]
          },
          "metadata": {
            "needs_background": "light"
          }
        }
      ]
    },
    {
      "cell_type": "markdown",
      "source": [
        "- 코랩은 셀의 마지막 결과를 자동으로 출력해 주기 때문에 print()함수는 필요없다."
      ],
      "metadata": {
        "id": "QlRiWIYnFR-1"
      }
    },
    {
      "cell_type": "code",
      "source": [
        "kn = kn.fit(train_input, train_targat)\n",
        "kn.score(test_input,test_targat)\n",
        "\n",
        "kn.predict(test_input)\n",
        "test_targat"
      ],
      "metadata": {
        "colab": {
          "base_uri": "https://localhost:8080/"
        },
        "id": "y_KA35HrEsdJ",
        "outputId": "d94f0cde-df00-4f1a-9bfe-b9f58069cd91"
      },
      "execution_count": null,
      "outputs": [
        {
          "output_type": "execute_result",
          "data": {
            "text/plain": [
              "array([0, 0, 1, 0, 1, 1, 1, 0, 1, 1, 0, 1, 1, 0])"
            ]
          },
          "metadata": {},
          "execution_count": 28
        }
      ]
    },
    {
      "cell_type": "markdown",
      "source": [
        "# 데이터 전처리"
      ],
      "metadata": {
        "id": "vPTfmpKHHL6b"
      }
    },
    {
      "cell_type": "code",
      "source": [
        "fish_length = [25.4, 26.3, 26.5, 29.0, 29.0, 29.7, 29.7, 30.0, 30.0, 30.7, 31.0, 31.0, \n",
        "                31.5, 32.0, 32.0, 32.0, 33.0, 33.0, 33.5, 33.5, 34.0, 34.0, 34.5, 35.0, \n",
        "                35.0, 35.0, 35.0, 36.0, 36.0, 37.0, 38.5, 38.5, 39.5, 41.0, 41.0, 9.8, \n",
        "                10.5, 10.6, 11.0, 11.2, 11.3, 11.8, 11.8, 12.0, 12.2, 12.4, 13.0, 14.3, 15.0]\n",
        "fish_weight = [242.0, 290.0, 340.0, 363.0, 430.0, 450.0, 500.0, 390.0, 450.0, 500.0, 475.0, 500.0, \n",
        "                500.0, 340.0, 600.0, 600.0, 700.0, 700.0, 610.0, 650.0, 575.0, 685.0, 620.0, 680.0, \n",
        "                700.0, 725.0, 720.0, 714.0, 850.0, 1000.0, 920.0, 955.0, 925.0, 975.0, 950.0, 6.7, \n",
        "                7.5, 7.0, 9.7, 9.8, 8.7, 10.0, 9.9, 9.8, 12.2, 13.4, 12.2, 19.7, 19.9]"
      ],
      "metadata": {
        "id": "33GSlgF1HPOb"
      },
      "execution_count": 2,
      "outputs": []
    },
    {
      "cell_type": "markdown",
      "source": [
        "- numpy의 column_stack() : 전달받은 리스트를 일렬로 세운 다음 차례대로 연결한다\n",
        "- 이때 리스트가 아닌 튜플로 전환한다. \n",
        "- 한번 만들어진 튜플은 수정할 수 없기 때문에 매개변수값으로 주로 사용\n",
        "- numpy배열은 python리스트보다 데이터가 큰 경우 훨씬 효율적이다"
      ],
      "metadata": {
        "id": "EqZWWxUAJzm9"
      }
    },
    {
      "cell_type": "code",
      "source": [
        "import numpy as np\n",
        "\n",
        "#np.column_stack(([1,2,3,],[4,5,6])) # 튜플로 만듬, 한번 만들어진 튜플은 수정할 수 없기 때문에 매개변수값으로 주로 사용\n",
        "\n",
        "fish_data = np.column_stack((fish_length, fish_weight))\n",
        "\n",
        "print(fish_data[:5])"
      ],
      "metadata": {
        "id": "49kTFLQII8i3"
      },
      "execution_count": null,
      "outputs": []
    },
    {
      "cell_type": "markdown",
      "source": [
        "np.ones(), np.zeros()  = 각각 원하는 개수의 1 과 0을 채운 배열을 만듬"
      ],
      "metadata": {
        "id": "Shn1uOXEEZBu"
      }
    },
    {
      "cell_type": "markdown",
      "source": [
        "- np.concatenate() = 함수를 이어주는데 가로로 이어준다, np.column_stack와 마찬가지로 튜플로 전달\n",
        "- np.column_stack() = 함수를 이어주는데 세로로 이어준다\n",
        "\n",
        "ex) [1, 1, 1] , [0, 0, 0] 데이터를 합칠 때 \n",
        "- np.concatenate() = [1, 1, 1, 0, 0, 0]\n",
        "- np.column_stack() = <br/>\n",
        "[[1,0], <br/>\n",
        "[1,0]<br/>\n",
        "[1,0]]\n"
      ],
      "metadata": {
        "id": "_J6hjVQ6EwU3"
      }
    },
    {
      "cell_type": "code",
      "source": [
        "fish_target = np.concatenate((np.ones(35), np.zeros(14)))\n",
        "print(fish_target)"
      ],
      "metadata": {
        "colab": {
          "base_uri": "https://localhost:8080/"
        },
        "id": "hAL_ffA8_juD",
        "outputId": "6c6005c2-b565-4503-9163-f980d0694140"
      },
      "execution_count": 14,
      "outputs": [
        {
          "output_type": "stream",
          "name": "stdout",
          "text": [
            "[1. 1. 1. 1. 1. 1. 1. 1. 1. 1. 1. 1. 1. 1. 1. 1. 1. 1. 1. 1. 1. 1. 1. 1.\n",
            " 1. 1. 1. 1. 1. 1. 1. 1. 1. 1. 1. 0. 0. 0. 0. 0. 0. 0. 0. 0. 0. 0. 0. 0.\n",
            " 0.]\n"
          ]
        }
      ]
    },
    {
      "cell_type": "markdown",
      "source": [
        "- .shape = 입력 데이터의 크기를 나타냄\n",
        "- train_test_selection() = 전달되는 리스트를 비율에 맞게 나눠준다\n",
        "  - 전에서 np.random.seed() 함수의 역할을 여기선 random.state()로 구현가능\n",
        "  - 밑의 함수를 예로 들어 train_test_split()함수에 fish_data, fish_target 2개의 배열을 전달하므로 총 4개의 배열이 반환\n",
        "  - train_test_split()는 기본적으로 25%를 테스트 세트로 구분\n"
      ],
      "metadata": {
        "id": "m22ihA-rG8GA"
      }
    },
    {
      "cell_type": "code",
      "source": [
        "from sklearn.model_selection import train_test_split\n",
        "\n",
        "train_input, test_input, train_target, test_target = train_test_split(fish_data, fish_target, random_state=42)\n",
        "\n",
        "print(train_input.shape, test_input.shape)\n",
        "print(train_target.shape, test_target.shape)"
      ],
      "metadata": {
        "colab": {
          "base_uri": "https://localhost:8080/"
        },
        "id": "-RMTW00iF24N",
        "outputId": "d90dceea-5fa6-46a9-b61e-df637f170a1d"
      },
      "execution_count": 16,
      "outputs": [
        {
          "output_type": "stream",
          "name": "stdout",
          "text": [
            "(36, 2) (13, 2)\n",
            "(36,) (13,)\n"
          ]
        }
      ]
    },
    {
      "cell_type": "markdown",
      "source": [
        "- 랜덤으로 섞어서 샘플링편향이 생길수도 있음\n",
        "  - stratify() 매개변수를 사용하여 클래스 비율에 맞게 데이터 나누기\n",
        "  "
      ],
      "metadata": {
        "id": "oxerB5wgJzFt"
      }
    },
    {
      "cell_type": "code",
      "source": [
        "print(test_target) # 샘플링 편향 발생\n",
        "\n",
        "train_input, test_input, train_target, test_target = train_test_split(fish_data, fish_target, random_state = 42, stratify = fish_target)\n",
        "print(test_target)"
      ],
      "metadata": {
        "colab": {
          "base_uri": "https://localhost:8080/"
        },
        "id": "EdjME8FNJumg",
        "outputId": "8a5484a9-77f4-494e-cd0e-012dc92acfbd"
      },
      "execution_count": 30,
      "outputs": [
        {
          "output_type": "stream",
          "name": "stdout",
          "text": [
            "[0. 0. 1. 0. 1. 0. 1. 1. 1. 1. 1. 1. 1.]\n",
            "[0. 0. 1. 0. 1. 0. 1. 1. 1. 1. 1. 1. 1.]\n"
          ]
        }
      ]
    },
    {
      "cell_type": "markdown",
      "source": [
        "2번째 모델 만들기"
      ],
      "metadata": {
        "id": "achPy8YlKB7d"
      }
    },
    {
      "cell_type": "code",
      "source": [
        "from sklearn.neighbors import KNeighborsClassifier\n",
        "kn = KNeighborsClassifier()\n",
        "kn.fit(train_input, train_target)\n",
        "kn.score(test_input, test_target)"
      ],
      "metadata": {
        "colab": {
          "base_uri": "https://localhost:8080/"
        },
        "id": "XlLl8fdULRVJ",
        "outputId": "9806a4d3-6773-46f7-c9bb-1df409659468"
      },
      "execution_count": 22,
      "outputs": [
        {
          "output_type": "execute_result",
          "data": {
            "text/plain": [
              "1.0"
            ]
          },
          "metadata": {},
          "execution_count": 22
        }
      ]
    },
    {
      "cell_type": "code",
      "source": [
        "print(kn.predict([[25,150]]))"
      ],
      "metadata": {
        "colab": {
          "base_uri": "https://localhost:8080/"
        },
        "id": "dTD2SLvjMCyi",
        "outputId": "a9d2f912-d0f6-4fd4-e6bb-d0d234e44413"
      },
      "execution_count": 24,
      "outputs": [
        {
          "output_type": "stream",
          "name": "stdout",
          "text": [
            "[0.]\n"
          ]
        }
      ]
    },
    {
      "cell_type": "code",
      "source": [
        "import matplotlib.pyplot as plt\n",
        "plt.scatter(train_input[:,0], train_input[:,1])  #고차원 인덱싱 방법 찾아보기\n",
        "plt.scatter(25,160,marker = '^')\n",
        "plt.xlabel('length')\n",
        "plt.ylabel('weight')\n",
        "plt.show()"
      ],
      "metadata": {
        "colab": {
          "base_uri": "https://localhost:8080/",
          "height": 279
        },
        "id": "DFcZY9ToMLt6",
        "outputId": "f66789c4-e6ad-497f-857f-3ca6d595f556"
      },
      "execution_count": 31,
      "outputs": [
        {
          "output_type": "display_data",
          "data": {
            "image/png": "[encoded data removed]",
            "text/plain": [
              "<Figure size 432x288 with 1 Axes>"
            ]
          },
          "metadata": {
            "needs_background": "light"
          }
        }
      ]
    },
    {
      "cell_type": "markdown",
      "source": [
        "- marker = 그래프에 다른 모양으로 포시해주는 매개변수\n"
      ],
      "metadata": {
        "id": "qOn0oUt9Q8DC"
      }
    },
    {
      "cell_type": "code",
      "source": [
        "distance, index = kn.kneighbors([[25,150]])\n",
        "plt.scatter(train_input[:,0], train_input[:,1])\n",
        "plt.scatter(25,150, marker = '^')\n",
        "plt.scatter(train_input[index,0], train_input[index,1], marker='D')\n",
        "plt.xlabel('length')\n",
        "plt.ylabel('weight')\n",
        "plt.show()"
      ],
      "metadata": {
        "colab": {
          "base_uri": "https://localhost:8080/",
          "height": 279
        },
        "id": "--FPN_u1O7QM",
        "outputId": "be2e039d-3710-4daa-e4fb-49bfe444c14b"
      },
      "execution_count": 42,
      "outputs": [
        {
          "output_type": "display_data",
          "data": {
            "image/png": "[encoded data removed]",
            "text/plain": [
              "<Figure size 432x288 with 1 Axes>"
            ]
          },
          "metadata": {
            "needs_background": "light"
          }
        }
      ]
    },
    {
      "cell_type": "code",
      "source": [
        "print(train_input[index])\n",
        "print(train_target[index])\n",
        "print(distance)"
      ],
      "metadata": {
        "colab": {
          "base_uri": "https://localhost:8080/"
        },
        "id": "1AWKoOhQQVzE",
        "outputId": "a4ce943e-5e14-47c4-b243-bc6006624d59"
      },
      "execution_count": 40,
      "outputs": [
        {
          "output_type": "stream",
          "name": "stdout",
          "text": [
            "[[[ 25.4 242. ]\n",
            "  [ 15.   19.9]\n",
            "  [ 14.3  19.7]\n",
            "  [ 13.   12.2]\n",
            "  [ 12.2  12.2]]]\n",
            "[[1. 0. 0. 0. 0.]]\n",
            "[[ 92.00086956 130.48375378 130.73859415 138.32150953 138.39320793]]\n"
          ]
        }
      ]
    },
    {
      "cell_type": "markdown",
      "source": [
        "- X축과 Y축의 거리비율이 다르기 때문에 (25,150) 좌표에서 오류\n",
        "- lim() = 각 축의 범위 지정, x축 = xlim, y축 = ylim\n",
        "- 이런 경우 두 특성의 ***스케일***이 다르다고 말한다"
      ],
      "metadata": {
        "id": "T9z7tNmbRI8b"
      }
    },
    {
      "cell_type": "code",
      "source": [
        "plt.scatter(train_input[:,0], train_input[:,1])\n",
        "plt.scatter(25,150, marker = '^')\n",
        "plt.scatter(train_input[index,0], train_input[index,1], marker = 'D')\n",
        "plt.xlim((0,1000))\n",
        "plt.xlabel('length')\n",
        "plt.ylabel('weight')\n",
        "plt.show()"
      ],
      "metadata": {
        "colab": {
          "base_uri": "https://localhost:8080/",
          "height": 279
        },
        "id": "IqVzGez-RjNK",
        "outputId": "f3224b5f-9ed0-44b4-b94f-7bb7198d7426"
      },
      "execution_count": 44,
      "outputs": [
        {
          "output_type": "display_data",
          "data": {
            "image/png": "[encoded data removed]",
            "text/plain": [
              "<Figure size 432x288 with 1 Axes>"
            ]
          },
          "metadata": {
            "needs_background": "light"
          }
        }
      ]
    },
    {
      "cell_type": "markdown",
      "source": [
        "<sup>p100</sup>\n",
        "- 알고리즘이 거리기반일 경우 이런 사태가 많이 발생, 스케일을 맞춰주는 작업을 데이터 전처리라고 한다.\n",
        "- 많이 사용하는 전처리 방법중 하나는 표준점수를 이용\n",
        "- train_input()은 (36,2)크기의 배열, 특성마다 스케일이 다르므로 특성별로 계산해야 한다\n",
        "- 이때 axis()함수를 이용, 0 이면 행을 따라서, 1이면 열을 따라서 통계값을 계산한다\n",
        "\n",
        "### 브로드캐스팅  - p100\n",
        "- numpy는 train_input의 모든 행에서 mean에 있는 두 평균값을 빼준다. \n",
        "- 그 다음 std에 있는 표준편차를 모든 행에 적용\n",
        "- 이러한 numpy의 기능을 브로드캐스팅(***broadcasting)***이라고 한다"
      ],
      "metadata": {
        "id": "X8yrkP-JTl_C"
      }
    },
    {
      "cell_type": "code",
      "source": [
        "mean = np.mean(train_input, axis = 0) # 평균\n",
        "std = np.std(train_input, axis=0) # 표준편차\n",
        "print(mean, std)\n",
        "train_scale =(train_input - mean) / std"
      ],
      "metadata": {
        "colab": {
          "base_uri": "https://localhost:8080/"
        },
        "id": "N9cVLcWUU9Qv",
        "outputId": "8de17070-f048-4667-e97f-dd03cc0fe45a"
      },
      "execution_count": 46,
      "outputs": [
        {
          "output_type": "stream",
          "name": "stdout",
          "text": [
            "[ 27.29722222 454.09722222] [  9.98244253 323.29893931]\n"
          ]
        }
      ]
    },
    {
      "cell_type": "markdown",
      "source": [
        "### 표준점수로 변환하여 모델 훈련시키기\n",
        "- 샘플도 동일한 비율로 나눠주지 않아서 오류 발생\n"
      ],
      "metadata": {
        "id": "CzTdXHepV8mH"
      }
    },
    {
      "cell_type": "code",
      "source": [
        "new = ([25,150]-mean) / std  # 샘플도 동일한 비율로 나눠주야 한다. \n",
        "plt.scatter(train_scale[:,0], train_scale[:,1])\n",
        "plt.scatter(new[0], new[1], marker = '^')\n",
        "plt.xlabel('length')\n",
        "plt.ylabel('weight')\n",
        "plt.show()\n"
      ],
      "metadata": {
        "colab": {
          "base_uri": "https://localhost:8080/",
          "height": 279
        },
        "id": "18IPWuzYW8sQ",
        "outputId": "262b95e7-d0fb-4ce7-dec7-c5c01567ac78"
      },
      "execution_count": 52,
      "outputs": [
        {
          "output_type": "display_data",
          "data": {
            "image/png": "[encoded data removed]",
            "text/plain": [
              "<Figure size 432x288 with 1 Axes>"
            ]
          },
          "metadata": {
            "needs_background": "light"
          }
        }
      ]
    },
    {
      "cell_type": "code",
      "source": [
        ""
      ],
      "metadata": {
        "id": "Q5hDy8S6Ydim"
      },
      "execution_count": null,
      "outputs": []
    }
  ]
}