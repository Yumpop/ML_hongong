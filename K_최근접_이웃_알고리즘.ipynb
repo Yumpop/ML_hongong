{
  "nbformat": 4,
  "nbformat_minor": 0,
  "metadata": {
    "colab": {
      "name": "K-최근접 이웃 알고리즘",
      "provenance": [],
      "authorship_tag": "ABX9TyPe3dgTEvQ4zuuUwH0vwlAE",
      "include_colab_link": true
    },
    "kernelspec": {
      "name": "python3",
      "display_name": "Python 3"
    },
    "language_info": {
      "name": "python"
    }
  },
  "cells": [
    {
      "cell_type": "markdown",
      "metadata": {
        "id": "view-in-github",
        "colab_type": "text"
      },
      "source": [
        "<a href=\"https://colab.research.google.com/github/Yumpop/colab_test/blob/main/K_%EC%B5%9C%EA%B7%BC%EC%A0%91_%EC%9D%B4%EC%9B%83_%EC%95%8C%EA%B3%A0%EB%A6%AC%EC%A6%98.ipynb\" target=\"_parent\"><img src=\"https://colab.research.google.com/assets/colab-badge.svg\" alt=\"Open In Colab\"/></a>"
      ]
    },
    {
      "cell_type": "markdown",
      "source": [
        "# K -최근접 이웃 알고리즘"
      ],
      "metadata": {
        "id": "G19AiV-p_9G8"
      }
    },
    {
      "cell_type": "markdown",
      "source": [
        "- 특성(feature) : 데이터의 특징"
      ],
      "metadata": {
        "id": "9NFL_Y45sxVf"
      }
    },
    {
      "cell_type": "code",
      "execution_count": null,
      "metadata": {
        "id": "WY5O-phjrAmw"
      },
      "outputs": [],
      "source": [
        "# if fish_length>=30:\n",
        "#   print('도미')\n",
        "\n",
        "bream_length = [25.4, 26.3, 26.5, 29.0, 29.0, 29.7, 29.7, 30.0, 30.0, 30.7, 31.0, 31.0, \n",
        "                31.5, 32.0, 32.0, 32.0, 33.0, 33.0, 33.5, 33.5, 34.0, 34.0, 34.5, 35.0, \n",
        "                35.0, 35.0, 35.0, 36.0, 36.0, 37.0, 38.5, 38.5, 39.5, 41.0, 41.0]\n",
        "bream_weight = [242.0, 290.0, 340.0, 363.0, 430.0, 450.0, 500.0, 390.0, 450.0, 500.0, 475.0, 500.0, \n",
        "                500.0, 340.0, 600.0, 600.0, 700.0, 700.0, 610.0, 650.0, 575.0, 685.0, 620.0, 680.0, \n",
        "                700.0, 725.0, 720.0, 714.0, 850.0, 1000.0, 920.0, 955.0, 925.0, 975.0, 950.0]"
      ]
    },
    {
      "cell_type": "markdown",
      "source": [
        "**선형** :  산점도의 그래프가 일직선의 가까운 형태"
      ],
      "metadata": {
        "id": "bYVo-vPyuIm2"
      }
    },
    {
      "cell_type": "code",
      "source": [
        "import matplotlib.pyplot as plt # matplotlib 의 pylot 함수를 plt롤 줄여서 사용\n",
        "\n",
        "plt.scatter(bream_length, bream_weight)\n",
        "plt.xlabel('length')\n",
        "plt.ylabel('weight')\n",
        "plt.show()\n"
      ],
      "metadata": {
        "colab": {
          "base_uri": "https://localhost:8080/",
          "height": 279
        },
        "id": "5KXXwFMRsrtX",
        "outputId": "0264d638-4283-41a1-9385-e69695438133"
      },
      "execution_count": null,
      "outputs": [
        {
          "output_type": "display_data",
          "data": {
            "image/png": "[encoded data removed]",
            "text/plain": [
              "<Figure size 432x288 with 1 Axes>"
            ]
          },
          "metadata": {
            "needs_background": "light"
          }
        }
      ]
    },
    {
      "cell_type": "markdown",
      "source": [
        "**matplotlib** 에서 2개의 산점도를 한 그래프로 나타내기"
      ],
      "metadata": {
        "id": "JXpyuKaJvIPG"
      }
    },
    {
      "cell_type": "code",
      "source": [
        "smelt_length = [9.8, 10.5, 10.6, 11.0, 11.2, 11.3, 11.8, 11.8, 12.0, 12.2, 12.4, 13.0, 14.3, 15.0]\n",
        "smelt_weight = [6.7, 7.5, 7.0, 9.7, 9.8, 8.7, 10.0, 9.9, 9.8, 12.2, 13.4, 12.2, 19.7, 19.9]\n",
        "\n",
        "plt.scatter(bream_length, bream_weight)\n",
        "plt.scatter(smelt_length, smelt_weight)\n",
        "plt.xlabel('length')\n",
        "plt.ylabel('weigth')\n",
        "plt.show()\n"
      ],
      "metadata": {
        "colab": {
          "base_uri": "https://localhost:8080/",
          "height": 279
        },
        "id": "E0WzHateub6R",
        "outputId": "e2469f44-f36d-4891-d398-c369e20d63d6"
      },
      "execution_count": null,
      "outputs": [
        {
          "output_type": "display_data",
          "data": {
            "image/png": "[encoded data removed]",
            "text/plain": [
              "<Figure size 432x288 with 1 Axes>"
            ]
          },
          "metadata": {
            "needs_background": "light"
          }
        }
      ]
    },
    {
      "cell_type": "markdown",
      "source": [
        "- 지금 사용하는 머신러닝 패키지가 사이킷런 이므로 각 특성의 리스트들을 세로방향의 **2차원 리스트**를 만들어야함\n",
        "\n",
        "- zip 함수 : 나열된 리스트에서 원소를 하나씩 꺼내주는 역할"
      ],
      "metadata": {
        "id": "r-rPPJ9XwEFk"
      }
    },
    {
      "cell_type": "code",
      "source": [
        "length = bream_length + smelt_length\n",
        "weight = bream_weight + smelt_weight\n",
        "\n",
        "fish_data = [[l,w] for l,w in zip(length, weight)]\n",
        "\n",
        "print(fish_data)"
      ],
      "metadata": {
        "id": "JkGyQfqYvj7r"
      },
      "execution_count": null,
      "outputs": []
    },
    {
      "cell_type": "markdown",
      "source": [
        "- kn의 객체에 fish_data와 fist_targat을 전달해서 도미를 찾기위한 기준을 학습시키기<br/>\n",
        "  위 과정을 훈련(training)라고 부른다 <br/>\n",
        "  사이킷 런에서는 fit()함수가 이 역할을 함\n",
        "\n",
        "- score()  = 사이킷 런에서 모델을 평가하는 메서드 <br/>\n",
        "- score()함수로 나온 값을 정확도라고 함 (범위는 0~1 사이)\n"
      ],
      "metadata": {
        "id": "tMaJWw9tz-gY"
      }
    },
    {
      "cell_type": "code",
      "source": [
        "fish_targat = [1] * 35 + [0] * 14\n",
        "# print(fish_targat)\n",
        "\n",
        "from sklearn.neighbors import KNeighborsClassifier\n",
        "kn = KNeighborsClassifier()\n",
        "\n",
        "kn.fit(fish_data, fish_targat)\n",
        "kn.score(fish_data, fish_targat)"
      ],
      "metadata": {
        "colab": {
          "base_uri": "https://localhost:8080/"
        },
        "id": "FXd1PpJixIwh",
        "outputId": "834f0280-1b4a-4c9f-cf83-652c909dbf3d"
      },
      "execution_count": null,
      "outputs": [
        {
          "output_type": "execute_result",
          "data": {
            "text/plain": [
              "1.0"
            ]
          },
          "metadata": {},
          "execution_count": 24
        }
      ]
    },
    {
      "cell_type": "markdown",
      "source": [
        "### k - 최근접 이웃 알고리즘 <br/>\n",
        "- 원리 : 어떤 데이터에 대한 값을 구할 때 주변의 다른 데이터를 보고 다수를 차지하는 데이터를 정답으로 사용\n",
        "\n",
        "- predict() : 새로운 정답을 예측, fit() 함수와 마찬가지로 2중리스트로 전달해야함 <br/>\n",
        " 반횐된 값 array([1]) 에서 array는 나중에 설명!"
      ],
      "metadata": {
        "id": "dDi5RLWX1kBC"
      }
    },
    {
      "cell_type": "code",
      "source": [
        "kn.predict([[30,600]])"
      ],
      "metadata": {
        "colab": {
          "base_uri": "https://localhost:8080/"
        },
        "id": "UXgORZ7V2K2H",
        "outputId": "510d1ee9-77e2-462d-9dc5-d6301b593014"
      },
      "execution_count": null,
      "outputs": [
        {
          "output_type": "execute_result",
          "data": {
            "text/plain": [
              "array([1])"
            ]
          },
          "metadata": {},
          "execution_count": 25
        }
      ]
    },
    {
      "cell_type": "markdown",
      "source": [
        "- k - 최근접 이웃 알고리즘 특징\n",
        "1. 새로운 데이터를 예측할 때는 가장 가까운 직선거리의 데이터만 확인\n",
        "2. 1의 특성으로 데이터가 많이 있는 경우 사용하기 어려움 (메모리가 많이 필요하고 직선거리 계산하는데 많은시간 필요함)\n",
        "3. 실제로 훈련되는 과정이 없음\n",
        "  - fit()메서드에 전달된 데이터를 가지고 새로운 데이터가 나타나면 가까운 데이터를 참고만 한다\n",
        "\n",
        "- 몇개의 데이터를 참고하는가  -- 기본값은 5이다. <br/>\n",
        "- 이 값은 n_neighbors매개변수로 변경 가능하다. \n",
        "\n",
        "만약 데이터를 49개 참고하게 된다면 어떤 데이터를 넣어도 도미로 예측 할 것<br/>\n",
        "(49개의 데이터중 35개가 도미이기 때문)"
      ],
      "metadata": {
        "id": "YT2A1Uc52xr_"
      }
    },
    {
      "cell_type": "code",
      "source": [
        "kn49 = KNeighborsClassifier(n_neighbors=49)\n",
        "kn49.fit(fish_data, fish_targat)\n",
        "kn49.score(fish_data, fish_targat)\n",
        "print(35/49)"
      ],
      "metadata": {
        "colab": {
          "base_uri": "https://localhost:8080/"
        },
        "id": "kHyI1wnb3YFL",
        "outputId": "2c2e7852-b10b-4d55-a9c9-119bc178d33b"
      },
      "execution_count": null,
      "outputs": [
        {
          "output_type": "stream",
          "name": "stdout",
          "text": [
            "0.7142857142857143\n"
          ]
        }
      ]
    },
    {
      "cell_type": "markdown",
      "source": [
        "위 셀에서 kn49.score(fish_data, fish_targat) 값과 print(35/49)값 둘다 출력 안 되는 이유\n",
        "<br/> -- 코드 셀은 마지막 실행 코드의 반환값만 자동 출력"
      ],
      "metadata": {
        "id": "QGCGIZqr6W6S"
      }
    },
    {
      "cell_type": "code",
      "source": [
        "for i in range(5,50):\n",
        "  # k 최근접 이웃 개수 설정\n",
        "  kn.n_neighbors = i  # 함수 사용방법 알기 \n",
        "  # 점수 계산\n",
        "  score = kn.score(fish_data, fish_targat)\n",
        "  if score < 1:\n",
        "    print(i, score)\n",
        "    break"
      ],
      "metadata": {
        "colab": {
          "base_uri": "https://localhost:8080/"
        },
        "id": "5uvnf-ZD7xZ7",
        "outputId": "fbdeffab-bc8a-44eb-cf3f-49b298e8340e"
      },
      "execution_count": null,
      "outputs": [
        {
          "output_type": "stream",
          "name": "stdout",
          "text": [
            "18 0.9795918367346939\n"
          ]
        }
      ]
    },
    {
      "cell_type": "markdown",
      "source": [
        "# 훈련세트와 테스트 세트 - 새로운 파일에서 시작하기\n",
        "<br/> \n",
        "깃허브 연동법 알고 나서 하기"
      ],
      "metadata": {
        "id": "mpp798IP_tfx"
      }
    },
    {
      "cell_type": "markdown",
      "source": [
        "- 머신러닝은 크게 지도학습과 비지도 학습으로 나뉜다. \n",
        "- 지도학습에서는 **입력(데이터)** 와 **타깃(정답)**이 있고 이 둘을 합쳐 **훈련데이터**라 부른다\n",
        "- 비지도 학습은 타깃없이 데이터만 사용, 나중(6장)에서 공부할 예정\n",
        "- 또한 강화학습이라는 것도 있는데 이 내용은 책에 안나옴\n",
        "<br/>\n",
        "\n",
        "- 위 모델에서는 훈련세트와 테스트세트가 같기 때문에 정확도가 100%가 나옴"
      ],
      "metadata": {
        "id": "yRO_dpXe_x-i"
      }
    },
    {
      "cell_type": "code",
      "source": [
        "fish_length = [25.4, 26.3, 26.5, 29.0, 29.0, 29.7, 29.7, 30.0, 30.0, 30.7, 31.0, 31.0, \n",
        "                31.5, 32.0, 32.0, 32.0, 33.0, 33.0, 33.5, 33.5, 34.0, 34.0, 34.5, 35.0, \n",
        "                35.0, 35.0, 35.0, 36.0, 36.0, 37.0, 38.5, 38.5, 39.5, 41.0, 41.0, 9.8, \n",
        "                10.5, 10.6, 11.0, 11.2, 11.3, 11.8, 11.8, 12.0, 12.2, 12.4, 13.0, 14.3, 15.0]\n",
        "fish_weight = [242.0, 290.0, 340.0, 363.0, 430.0, 450.0, 500.0, 390.0, 450.0, 500.0, 475.0, 500.0, \n",
        "                500.0, 340.0, 600.0, 600.0, 700.0, 700.0, 610.0, 650.0, 575.0, 685.0, 620.0, 680.0, \n",
        "                700.0, 725.0, 720.0, 714.0, 850.0, 1000.0, 920.0, 955.0, 925.0, 975.0, 950.0, 6.7, \n",
        "                7.5, 7.0, 9.7, 9.8, 8.7, 10.0, 9.9, 9.8, 12.2, 13.4, 12.2, 19.7, 19.9]"
      ],
      "metadata": {
        "id": "Ww3yEM8WB7D0"
      },
      "execution_count": null,
      "outputs": []
    },
    {
      "cell_type": "code",
      "source": [
        "fish_data = [[l,w] for l, w in zip(fish_length, fish_weight)]\n",
        "fish_targat = [0]*35 + [1] * 14"
      ],
      "metadata": {
        "id": "KUivzqDBCUjp"
      },
      "execution_count": null,
      "outputs": []
    }
  ]
}