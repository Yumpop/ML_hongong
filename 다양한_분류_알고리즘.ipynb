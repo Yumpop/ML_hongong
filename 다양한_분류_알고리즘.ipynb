{
  "nbformat": 4,
  "nbformat_minor": 0,
  "metadata": {
    "colab": {
      "name": "다양한 분류 알고리즘",
      "provenance": [],
      "authorship_tag": "ABX9TyMrg/kohLnc/75s+SzuTqt5",
      "include_colab_link": true
    },
    "kernelspec": {
      "name": "python3",
      "display_name": "Python 3"
    },
    "language_info": {
      "name": "python"
    }
  },
  "cells": [
    {
      "cell_type": "markdown",
      "metadata": {
        "id": "view-in-github",
        "colab_type": "text"
      },
      "source": [
        "<a href=\"https://colab.research.google.com/github/Yumpop/colab_test/blob/main/%EB%8B%A4%EC%96%91%ED%95%9C_%EB%B6%84%EB%A5%98_%EC%95%8C%EA%B3%A0%EB%A6%AC%EC%A6%98.ipynb\" target=\"_parent\"><img src=\"https://colab.research.google.com/assets/colab-badge.svg\" alt=\"Open In Colab\"/></a>"
      ]
    },
    {
      "cell_type": "markdown",
      "source": [
        "# 다양한 로지스틱 회귀"
      ],
      "metadata": {
        "id": "cPueCRYa2fhE"
      }
    },
    {
      "cell_type": "code",
      "execution_count": null,
      "metadata": {
        "colab": {
          "base_uri": "https://localhost:8080/",
          "height": 206
        },
        "id": "wZ3Yc-Sb2aro",
        "outputId": "55b2532d-c5f7-47fb-8d03-01bc74150e87"
      },
      "outputs": [
        {
          "output_type": "execute_result",
          "data": {
            "text/html": [
              "\n",
              "  <div id=\"df-49453aaf-2de5-402b-b00b-96614d6cbb67\">\n",
              "    <div class=\"colab-df-container\">\n",
              "      <div>\n",
              "<style scoped>\n",
              "    .dataframe tbody tr th:only-of-type {\n",
              "        vertical-align: middle;\n",
              "    }\n",
              "\n",
              "    .dataframe tbody tr th {\n",
              "        vertical-align: top;\n",
              "    }\n",
              "\n",
              "    .dataframe thead th {\n",
              "        text-align: right;\n",
              "    }\n",
              "</style>\n",
              "<table border=\"1\" class=\"dataframe\">\n",
              "  <thead>\n",
              "    <tr style=\"text-align: right;\">\n",
              "      <th></th>\n",
              "      <th>Species</th>\n",
              "      <th>Weight</th>\n",
              "      <th>Length</th>\n",
              "      <th>Diagonal</th>\n",
              "      <th>Height</th>\n",
              "      <th>Width</th>\n",
              "    </tr>\n",
              "  </thead>\n",
              "  <tbody>\n",
              "    <tr>\n",
              "      <th>0</th>\n",
              "      <td>Bream</td>\n",
              "      <td>242.0</td>\n",
              "      <td>25.4</td>\n",
              "      <td>30.0</td>\n",
              "      <td>11.5200</td>\n",
              "      <td>4.0200</td>\n",
              "    </tr>\n",
              "    <tr>\n",
              "      <th>1</th>\n",
              "      <td>Bream</td>\n",
              "      <td>290.0</td>\n",
              "      <td>26.3</td>\n",
              "      <td>31.2</td>\n",
              "      <td>12.4800</td>\n",
              "      <td>4.3056</td>\n",
              "    </tr>\n",
              "    <tr>\n",
              "      <th>2</th>\n",
              "      <td>Bream</td>\n",
              "      <td>340.0</td>\n",
              "      <td>26.5</td>\n",
              "      <td>31.1</td>\n",
              "      <td>12.3778</td>\n",
              "      <td>4.6961</td>\n",
              "    </tr>\n",
              "    <tr>\n",
              "      <th>3</th>\n",
              "      <td>Bream</td>\n",
              "      <td>363.0</td>\n",
              "      <td>29.0</td>\n",
              "      <td>33.5</td>\n",
              "      <td>12.7300</td>\n",
              "      <td>4.4555</td>\n",
              "    </tr>\n",
              "    <tr>\n",
              "      <th>4</th>\n",
              "      <td>Bream</td>\n",
              "      <td>430.0</td>\n",
              "      <td>29.0</td>\n",
              "      <td>34.0</td>\n",
              "      <td>12.4440</td>\n",
              "      <td>5.1340</td>\n",
              "    </tr>\n",
              "  </tbody>\n",
              "</table>\n",
              "</div>\n",
              "      <button class=\"colab-df-convert\" onclick=\"convertToInteractive('df-49453aaf-2de5-402b-b00b-96614d6cbb67')\"\n",
              "              title=\"Convert this dataframe to an interactive table.\"\n",
              "              style=\"display:none;\">\n",
              "        \n",
              "  <svg xmlns=\"http://www.w3.org/2000/svg\" height=\"24px\"viewBox=\"0 0 24 24\"\n",
              "       width=\"24px\">\n",
              "    <path d=\"M0 0h24v24H0V0z\" fill=\"none\"/>\n",
              "    <path d=\"M18.56 5.44l.94 2.06.94-2.06 2.06-.94-2.06-.94-.94-2.06-.94 2.06-2.06.94zm-11 1L8.5 8.5l.94-2.06 2.06-.94-2.06-.94L8.5 2.5l-.94 2.06-2.06.94zm10 10l.94 2.06.94-2.06 2.06-.94-2.06-.94-.94-2.06-.94 2.06-2.06.94z\"/><path d=\"M17.41 7.96l-1.37-1.37c-.4-.4-.92-.59-1.43-.59-.52 0-1.04.2-1.43.59L10.3 9.45l-7.72 7.72c-.78.78-.78 2.05 0 2.83L4 21.41c.39.39.9.59 1.41.59.51 0 1.02-.2 1.41-.59l7.78-7.78 2.81-2.81c.8-.78.8-2.07 0-2.86zM5.41 20L4 18.59l7.72-7.72 1.47 1.35L5.41 20z\"/>\n",
              "  </svg>\n",
              "      </button>\n",
              "      \n",
              "  <style>\n",
              "    .colab-df-container {\n",
              "      display:flex;\n",
              "      flex-wrap:wrap;\n",
              "      gap: 12px;\n",
              "    }\n",
              "\n",
              "    .colab-df-convert {\n",
              "      background-color: #E8F0FE;\n",
              "      border: none;\n",
              "      border-radius: 50%;\n",
              "      cursor: pointer;\n",
              "      display: none;\n",
              "      fill: #1967D2;\n",
              "      height: 32px;\n",
              "      padding: 0 0 0 0;\n",
              "      width: 32px;\n",
              "    }\n",
              "\n",
              "    .colab-df-convert:hover {\n",
              "      background-color: #E2EBFA;\n",
              "      box-shadow: 0px 1px 2px rgba(60, 64, 67, 0.3), 0px 1px 3px 1px rgba(60, 64, 67, 0.15);\n",
              "      fill: #174EA6;\n",
              "    }\n",
              "\n",
              "    [theme=dark] .colab-df-convert {\n",
              "      background-color: #3B4455;\n",
              "      fill: #D2E3FC;\n",
              "    }\n",
              "\n",
              "    [theme=dark] .colab-df-convert:hover {\n",
              "      background-color: #434B5C;\n",
              "      box-shadow: 0px 1px 3px 1px rgba(0, 0, 0, 0.15);\n",
              "      filter: drop-shadow(0px 1px 2px rgba(0, 0, 0, 0.3));\n",
              "      fill: #FFFFFF;\n",
              "    }\n",
              "  </style>\n",
              "\n",
              "      <script>\n",
              "        const buttonEl =\n",
              "          document.querySelector('#df-49453aaf-2de5-402b-b00b-96614d6cbb67 button.colab-df-convert');\n",
              "        buttonEl.style.display =\n",
              "          google.colab.kernel.accessAllowed ? 'block' : 'none';\n",
              "\n",
              "        async function convertToInteractive(key) {\n",
              "          const element = document.querySelector('#df-49453aaf-2de5-402b-b00b-96614d6cbb67');\n",
              "          const dataTable =\n",
              "            await google.colab.kernel.invokeFunction('convertToInteractive',\n",
              "                                                     [key], {});\n",
              "          if (!dataTable) return;\n",
              "\n",
              "          const docLinkHtml = 'Like what you see? Visit the ' +\n",
              "            '<a target=\"_blank\" href=https://colab.research.google.com/notebooks/data_table.ipynb>data table notebook</a>'\n",
              "            + ' to learn more about interactive tables.';\n",
              "          element.innerHTML = '';\n",
              "          dataTable['output_type'] = 'display_data';\n",
              "          await google.colab.output.renderOutput(dataTable, element);\n",
              "          const docLink = document.createElement('div');\n",
              "          docLink.innerHTML = docLinkHtml;\n",
              "          element.appendChild(docLink);\n",
              "        }\n",
              "      </script>\n",
              "    </div>\n",
              "  </div>\n",
              "  "
            ],
            "text/plain": [
              "  Species  Weight  Length  Diagonal   Height   Width\n",
              "0   Bream   242.0    25.4      30.0  11.5200  4.0200\n",
              "1   Bream   290.0    26.3      31.2  12.4800  4.3056\n",
              "2   Bream   340.0    26.5      31.1  12.3778  4.6961\n",
              "3   Bream   363.0    29.0      33.5  12.7300  4.4555\n",
              "4   Bream   430.0    29.0      34.0  12.4440  5.1340"
            ]
          },
          "metadata": {},
          "execution_count": 4
        }
      ],
      "source": [
        "import pandas as pd\n",
        "fish = pd.read_csv('https://bit.ly/fish_csv_data')\n",
        "fish.head() # 처음 5개의 행을 출력"
      ]
    },
    {
      "cell_type": "markdown",
      "source": [
        "- unique() : 원하는 열에서 고유한 값을 추출\n",
        "- 위 데이터프레임에서는 species열은 타깃으로 하고 남은 열을 입력데이터로 사용\n"
      ],
      "metadata": {
        "id": "i2838ARQ5MIl"
      }
    },
    {
      "cell_type": "code",
      "source": [
        "print(pd.unique(fish['Species']))"
      ],
      "metadata": {
        "colab": {
          "base_uri": "https://localhost:8080/"
        },
        "id": "2bDXLkrl3piw",
        "outputId": "f186d164-ebdf-48d8-a8a6-4d0b31ebf7b4"
      },
      "execution_count": null,
      "outputs": [
        {
          "output_type": "stream",
          "name": "stdout",
          "text": [
            "['Bream' 'Roach' 'Whitefish' 'Parkki' 'Perch' 'Pike' 'Smelt']\n"
          ]
        }
      ]
    },
    {
      "cell_type": "code",
      "source": [
        "fish_input = fish[['Weight', 'Length', 'Diagonal', 'Height','Width']].to_numpy()"
      ],
      "metadata": {
        "id": "eDvP1XvU3yJS"
      },
      "execution_count": null,
      "outputs": []
    },
    {
      "cell_type": "code",
      "source": [
        "print(fish_input[:5])"
      ],
      "metadata": {
        "colab": {
          "base_uri": "https://localhost:8080/"
        },
        "id": "cerT9qY24K8Y",
        "outputId": "fc4063dd-4bf9-4ece-8f80-5c0041b612f5"
      },
      "execution_count": null,
      "outputs": [
        {
          "output_type": "stream",
          "name": "stdout",
          "text": [
            "[[242.      25.4     30.      11.52     4.02  ]\n",
            " [290.      26.3     31.2     12.48     4.3056]\n",
            " [340.      26.5     31.1     12.3778   4.6961]\n",
            " [363.      29.      33.5     12.73     4.4555]\n",
            " [430.      29.      34.      12.444    5.134 ]]\n"
          ]
        }
      ]
    },
    {
      "cell_type": "code",
      "source": [
        "fish_target = fish['Species'].to_numpy()"
      ],
      "metadata": {
        "id": "p1JIPhfP4Q9p"
      },
      "execution_count": null,
      "outputs": []
    },
    {
      "cell_type": "code",
      "source": [
        "from sklearn.model_selection import train_test_split\n",
        "train_input, test_input, train_target, test_target = train_test_split(fish_input, fish_target, random_state=42)"
      ],
      "metadata": {
        "id": "nf1o4TKw4aIT"
      },
      "execution_count": null,
      "outputs": []
    },
    {
      "cell_type": "code",
      "source": [
        "from sklearn.preprocessing import StandardScaler\n",
        "ss = StandardScaler()\n",
        "ss.fit(train_input)  # 훈련세트의 통계값으로 테스트세트를 변환하는것 잊지 않기!!!\n",
        "train_scaled = ss.transform(train_input)\n",
        "test_scaled = ss.transform(test_input)"
      ],
      "metadata": {
        "id": "Z-_AUNAq4wz2"
      },
      "execution_count": null,
      "outputs": []
    },
    {
      "cell_type": "markdown",
      "source": [
        "### K - 최근접 이웃 분류기의 확률 예측\n"
      ],
      "metadata": {
        "id": "aZ7CSDyP6Tr2"
      }
    },
    {
      "cell_type": "code",
      "source": [
        "from sklearn.neighbors import KNeighborsClassifier\n",
        "kn = KNeighborsClassifier(n_neighbors = 3)\n",
        "kn.fit(train_scaled, train_target)\n",
        "print(kn.score(train_scaled, train_target))\n",
        "print(kn.score(test_scaled, test_target))"
      ],
      "metadata": {
        "colab": {
          "base_uri": "https://localhost:8080/"
        },
        "id": "ynnFhdrN6b5h",
        "outputId": "caf81dcd-7450-4623-b5a1-ec9a428ce958"
      },
      "execution_count": null,
      "outputs": [
        {
          "output_type": "stream",
          "name": "stdout",
          "text": [
            "0.8907563025210085\n",
            "0.85\n"
          ]
        }
      ]
    },
    {
      "cell_type": "markdown",
      "source": [
        "- 타깃데이터에 2개 이상의 클래스가 있으면 ***다중분류*** 라고 한다.\n",
        "- 앞에서 타깃데이터를 (0,1)로 나눈것은 이진분류다. \n",
        "- 다중분류에서도 타깃값을 숫자로 표현 가능하지만 사이킷런에서는 문자열로 된 타깃값 사용 가능\n",
        "- 주의할 점) 타깃값을 사이킷런 모델에 전달하면 순서가 자동으로 알파벳순서로 바뀜\n",
        "    - 타깃데이터들은 classes_ 속성에 들어가 있음"
      ],
      "metadata": {
        "id": "BDiZX3uR7Lp6"
      }
    },
    {
      "cell_type": "code",
      "source": [
        "print(kn.classes_)"
      ],
      "metadata": {
        "colab": {
          "base_uri": "https://localhost:8080/"
        },
        "id": "DZcszsRs74u5",
        "outputId": "13e0be80-9a3e-4479-e681-6d099df0fdfe"
      },
      "execution_count": null,
      "outputs": [
        {
          "output_type": "stream",
          "name": "stdout",
          "text": [
            "['Bream' 'Parkki' 'Perch' 'Pike' 'Roach' 'Smelt' 'Whitefish']\n"
          ]
        }
      ]
    },
    {
      "cell_type": "code",
      "source": [
        "print(kn.predict(test_scaled[:5]))"
      ],
      "metadata": {
        "colab": {
          "base_uri": "https://localhost:8080/"
        },
        "id": "EYAln2WL8Bwo",
        "outputId": "6d5837ab-6252-4c3c-d9b7-ce38a330383c"
      },
      "execution_count": null,
      "outputs": [
        {
          "output_type": "stream",
          "name": "stdout",
          "text": [
            "['Perch' 'Smelt' 'Pike' 'Perch' 'Perch']\n"
          ]
        }
      ]
    },
    {
      "cell_type": "markdown",
      "source": [
        "- predict_proba() 에서드의 출력순서는 classes_속성과 같다. \n",
        "- 즉, 첫번째 열이 Bream의 확률, 두번째 열이 Parkki의 확률이다."
      ],
      "metadata": {
        "id": "s3xT2YqgAqgx"
      }
    },
    {
      "cell_type": "code",
      "source": [
        "import numpy as np\n",
        "proba = kn.predict_proba(test_scaled[:5])\n",
        "print(np.round(proba, decimals =4))"
      ],
      "metadata": {
        "colab": {
          "base_uri": "https://localhost:8080/"
        },
        "id": "6nHd9mdA8UDU",
        "outputId": "b4657539-b689-4ba1-bbd5-e15442efe1d7"
      },
      "execution_count": null,
      "outputs": [
        {
          "output_type": "stream",
          "name": "stdout",
          "text": [
            "[[0.     0.     1.     0.     0.     0.     0.    ]\n",
            " [0.     0.     0.     0.     0.     1.     0.    ]\n",
            " [0.     0.     0.     1.     0.     0.     0.    ]\n",
            " [0.     0.     0.6667 0.     0.3333 0.     0.    ]\n",
            " [0.     0.     0.6667 0.     0.3333 0.     0.    ]]\n"
          ]
        }
      ]
    },
    {
      "cell_type": "code",
      "source": [
        "distance, index = kn.kneighbors(test_scaled[3:4])\n",
        "print(train_target[index])"
      ],
      "metadata": {
        "colab": {
          "base_uri": "https://localhost:8080/"
        },
        "id": "CT7IcubJ8mZR",
        "outputId": "3da75604-2fb0-48a4-d47a-ed1fc429b24b"
      },
      "execution_count": null,
      "outputs": [
        {
          "output_type": "stream",
          "name": "stdout",
          "text": [
            "[['Roach' 'Perch' 'Perch']]\n"
          ]
        }
      ]
    },
    {
      "cell_type": "markdown",
      "source": [
        "### 로지스틱 회귀\n",
        "- 이름은 회귀이지만 분류모델\n",
        "- 로지스틱 회귀는 선형회귀와 동일하게 선형방정식을 학습\n",
        "- z = a X (Weight) + b X (Length) + c X (Diagonal) + d X (Height) + e X (Width) + f\n",
        "- 여기에서 a,b,c,d,e는 가중치 혹은 계수이다. \n",
        "- z는 어떤 값도 가능하지만 확률이 되려면 0~1 사이 값이 되야 한다. \n",
        "    - 아주 큰 음수일 때는 0이 되고 아주 큰 양수일 때는 1이 되도록 바꾼 함수 - 시그모이드 함수\n",
        "        - 시그모이드 함수 = <img src=\"https://cdn-images-1.medium.com/max/1200/1*Vo7UFksa_8Ne5HcfEzHNWQ.png\" width=\"200\" height=\"80\">\n",
        "        - 지수함수 계산은 np.exp()함수 사용\n",
        "\n"
      ],
      "metadata": {
        "id": "kj5X30dhBRr7"
      }
    },
    {
      "cell_type": "code",
      "source": [
        "import numpy as np\n",
        "import matplotlib.pyplot as plt\n",
        "z = np.arange(-5, 5, 0.1)\n",
        "phi = 1/(1 + np.exp(-z))\n",
        "plt.plot(z,phi)\n",
        "plt.xlabel('z')\n",
        "plt.ylabel('phi')\n",
        "plt.show()"
      ],
      "metadata": {
        "colab": {
          "base_uri": "https://localhost:8080/",
          "height": 279
        },
        "id": "-xFfKRM4EG46",
        "outputId": "afc4ea7e-a48a-4633-93d0-429373ac089c"
      },
      "execution_count": null,
      "outputs": [
        {
          "output_type": "display_data",
          "data": {
            "image/png": "[encoded data removed]",
            "text/plain": [
              "<Figure size 432x288 with 1 Axes>"
            ]
          },
          "metadata": {
            "needs_background": "light"
          }
        }
      ]
    },
    {
      "cell_type": "markdown",
      "source": [
        "### 로지스틱 회귀로 이진 분류 수행하기"
      ],
      "metadata": {
        "id": "hmumvHeOEwsy"
      }
    },
    {
      "cell_type": "markdown",
      "source": [
        "- 넘파이 배열은 True, False값을 전달하여 행을 선택 가능\n",
        "- 이를 ***불리언 인덱싱*** 이라고 함"
      ],
      "metadata": {
        "id": "33E-UAzeF3I0"
      }
    },
    {
      "cell_type": "code",
      "source": [
        "char_arr = np.array(['A', 'B', 'C', 'D', 'E'])\n",
        "print(char_arr[[True, False, True, False, False]])"
      ],
      "metadata": {
        "colab": {
          "base_uri": "https://localhost:8080/"
        },
        "id": "u8RUjlkEEv52",
        "outputId": "35d7c721-9b70-47ba-d0c4-1f939252695f"
      },
      "execution_count": null,
      "outputs": [
        {
          "output_type": "stream",
          "name": "stdout",
          "text": [
            "['A' 'C']\n"
          ]
        }
      ]
    },
    {
      "cell_type": "markdown",
      "source": [
        "- 도미(bream)와 빙어(Smelt)의 행만 골라내기"
      ],
      "metadata": {
        "id": "mFO7J6PLGJ1x"
      }
    },
    {
      "cell_type": "code",
      "source": [
        "bream_smelt_index = (train_target == 'Bream') | (train_target == 'Smelt')\n",
        "train_bream_smelt = train_scaled[bream_smelt_index]\n",
        "target_bream_smelt = train_target[bream_smelt_index]"
      ],
      "metadata": {
        "id": "ygiVfqvzFQIc"
      },
      "execution_count": null,
      "outputs": []
    },
    {
      "cell_type": "code",
      "source": [
        "from sklearn.linear_model import LogisticRegression\n",
        "lr = LogisticRegression()\n",
        "lr.fit(train_bream_smelt, target_bream_smelt)\n",
        "print(lr.predict(train_bream_smelt[:5]))"
      ],
      "metadata": {
        "colab": {
          "base_uri": "https://localhost:8080/"
        },
        "id": "o1wa0j92F0IM",
        "outputId": "eb4b8c32-eaa9-4032-ae91-e89c7385adad"
      },
      "execution_count": null,
      "outputs": [
        {
          "output_type": "stream",
          "name": "stdout",
          "text": [
            "['Bream' 'Smelt' 'Bream' 'Bream' 'Bream']\n"
          ]
        }
      ]
    },
    {
      "cell_type": "markdown",
      "source": [
        "- predict_proba() : 예측확률을 출력"
      ],
      "metadata": {
        "id": "sLh9O2AnISz2"
      }
    },
    {
      "cell_type": "code",
      "source": [
        "print(lr.predict_proba(train_bream_smelt[:5]))"
      ],
      "metadata": {
        "colab": {
          "base_uri": "https://localhost:8080/"
        },
        "id": "OrSvL2FZG3Bw",
        "outputId": "fd471672-1f82-4912-eec6-b3b9f2e57785"
      },
      "execution_count": null,
      "outputs": [
        {
          "output_type": "stream",
          "name": "stdout",
          "text": [
            "[[0.99759855 0.00240145]\n",
            " [0.02735183 0.97264817]\n",
            " [0.99486072 0.00513928]\n",
            " [0.98584202 0.01415798]\n",
            " [0.99767269 0.00232731]]\n"
          ]
        }
      ]
    },
    {
      "cell_type": "markdown",
      "source": [
        "- Bream과 Smelt중 누가 양성 클래스인가\n",
        "- 타깃값이 알파벳순이기 때문에 빙어(Smelt)가 양성 클래스이다."
      ],
      "metadata": {
        "id": "L528SVGMIeUu"
      }
    },
    {
      "cell_type": "code",
      "source": [
        "print(lr.classes_)"
      ],
      "metadata": {
        "colab": {
          "base_uri": "https://localhost:8080/"
        },
        "id": "t8xJO5chHQdN",
        "outputId": "000a2ab4-febc-40e7-a8b6-01edf3a028df"
      },
      "execution_count": null,
      "outputs": [
        {
          "output_type": "stream",
          "name": "stdout",
          "text": [
            "['Bream' 'Smelt']\n"
          ]
        }
      ]
    },
    {
      "cell_type": "markdown",
      "source": [
        "- 가중치와 절편 확인하기"
      ],
      "metadata": {
        "id": "rgsBEvuaJBjx"
      }
    },
    {
      "cell_type": "code",
      "source": [
        "print(lr.coef_, lr.intercept_)"
      ],
      "metadata": {
        "colab": {
          "base_uri": "https://localhost:8080/"
        },
        "id": "f_uy_unSHaRV",
        "outputId": "aa79998d-b52e-47e5-ae14-b77b46317efe"
      },
      "execution_count": null,
      "outputs": [
        {
          "output_type": "stream",
          "name": "stdout",
          "text": [
            "[[-0.4037798  -0.57620209 -0.66280298 -1.01290277 -0.73168947]] [-2.16155132]\n"
          ]
        }
      ]
    },
    {
      "cell_type": "markdown",
      "source": [
        " - train_bream_smelt의 처음 5개 샘플의 z값을 확인"
      ],
      "metadata": {
        "id": "VunuDFq7JLXB"
      }
    },
    {
      "cell_type": "code",
      "source": [
        "decisions = lr.decision_function(train_bream_smelt[:5])\n",
        "print(decisions)"
      ],
      "metadata": {
        "colab": {
          "base_uri": "https://localhost:8080/"
        },
        "id": "CYqukQtWHhot",
        "outputId": "c91eecf3-b258-4a6d-bac9-06d75fa339b9"
      },
      "execution_count": null,
      "outputs": [
        {
          "output_type": "stream",
          "name": "stdout",
          "text": [
            "[-6.02927744  3.57123907 -5.26568906 -4.24321775 -6.0607117 ]\n"
          ]
        }
      ]
    },
    {
      "cell_type": "markdown",
      "source": [
        "- 이 z값들을 시그모이드 함수에 통과시키면 확룰을 얻을 수 있다.\n",
        "- 파이썬의 사이파이(scipy)라이브러리에도 시그모이드 함수 expit() 가 있다.  "
      ],
      "metadata": {
        "id": "FfUPeEQDJeNL"
      }
    },
    {
      "cell_type": "code",
      "source": [
        "from scipy.special import expit\n",
        "print(expit(decisions))"
      ],
      "metadata": {
        "colab": {
          "base_uri": "https://localhost:8080/"
        },
        "id": "oS8u2gf9H6LI",
        "outputId": "103f72dc-46d9-4628-c26f-8ab6738f4582"
      },
      "execution_count": null,
      "outputs": [
        {
          "output_type": "stream",
          "name": "stdout",
          "text": [
            "[0.00240145 0.97264817 0.00513928 0.01415798 0.00232731]\n"
          ]
        }
      ]
    },
    {
      "cell_type": "markdown",
      "source": [
        "### 로지스틱 회귀로 다중분류 수행"
      ],
      "metadata": {
        "id": "lKo7rlNQKID9"
      }
    },
    {
      "cell_type": "markdown",
      "source": [
        "- LogisticRegression 클래스는 기본적으로 반복적인 알조리즘을 사용\n",
        "    - max_iter 매개변수에서 반복횟수를 지정하며 기본값은 100\n",
        "- LogisticRegression 클래스는 기본적으로 릿지회귀와 같이 계수의 제곱을 이용해 규제함\n",
        "- 릿지회귀는 alpha로 로지스틱회귀는 C 이다\n",
        "- 매개변수 C의 기본값은 1 이고 alpha와 달리 값이 작을수록 규제가 커"
      ],
      "metadata": {
        "id": "FJQw2H8KK65M"
      }
    },
    {
      "cell_type": "code",
      "source": [
        "lr = LogisticRegression(C=20, max_iter = 1000)\n",
        "lr.fit(train_scaled, train_target)\n",
        "print(lr.score(train_scaled, train_target))\n",
        "print(lr.score(test_scaled, test_target))"
      ],
      "metadata": {
        "colab": {
          "base_uri": "https://localhost:8080/"
        },
        "id": "9yFVrBNcLuQq",
        "outputId": "edab973d-5efc-48eb-cce8-713a632d12fc"
      },
      "execution_count": null,
      "outputs": [
        {
          "output_type": "stream",
          "name": "stdout",
          "text": [
            "0.9327731092436975\n",
            "0.925\n"
          ]
        }
      ]
    },
    {
      "cell_type": "code",
      "source": [
        "print(lr.predict(test_scaled[:5]))"
      ],
      "metadata": {
        "colab": {
          "base_uri": "https://localhost:8080/"
        },
        "id": "IsvYgQiZMIQf",
        "outputId": "0ad837e4-5c67-4435-dc4b-ecfcf82e8300"
      },
      "execution_count": null,
      "outputs": [
        {
          "output_type": "stream",
          "name": "stdout",
          "text": [
            "['Perch' 'Smelt' 'Pike' 'Roach' 'Perch']\n"
          ]
        }
      ]
    },
    {
      "cell_type": "code",
      "source": [
        "proba = lr.predict_proba(test_scaled[:5])\n",
        "print(np.round(proba, decimals = 3))"
      ],
      "metadata": {
        "colab": {
          "base_uri": "https://localhost:8080/"
        },
        "id": "9DtvxUl2MPkB",
        "outputId": "8047e674-02b2-4c4a-93bd-625d1b6f65d2"
      },
      "execution_count": null,
      "outputs": [
        {
          "output_type": "stream",
          "name": "stdout",
          "text": [
            "[[0.    0.014 0.841 0.    0.136 0.007 0.003]\n",
            " [0.    0.003 0.044 0.    0.007 0.946 0.   ]\n",
            " [0.    0.    0.034 0.935 0.015 0.016 0.   ]\n",
            " [0.011 0.034 0.306 0.007 0.567 0.    0.076]\n",
            " [0.    0.    0.904 0.002 0.089 0.002 0.001]]\n"
          ]
        }
      ]
    },
    {
      "cell_type": "markdown",
      "source": [
        "- 타깃 클래스 정보 확인"
      ],
      "metadata": {
        "id": "yYP5ZUxsNGJ9"
      }
    },
    {
      "cell_type": "code",
      "source": [
        "print(lr.classes_)"
      ],
      "metadata": {
        "colab": {
          "base_uri": "https://localhost:8080/"
        },
        "id": "BYLSpfgUM2rV",
        "outputId": "9fac8b22-96a3-43a9-9a92-bdbf37d01bbd"
      },
      "execution_count": null,
      "outputs": [
        {
          "output_type": "stream",
          "name": "stdout",
          "text": [
            "['Bream' 'Parkki' 'Perch' 'Pike' 'Roach' 'Smelt' 'Whitefish']\n"
          ]
        }
      ]
    },
    {
      "cell_type": "markdown",
      "source": [
        "- coef_ 와 intercept_ 의 행의 개수가 7개 = 다중분류는 클래스마다 z값을 하나씩 계산 => 가장 높은 z값의 클래스가 예측 클래스\n",
        "\n",
        "- 확률을 계산하기\n",
        "    - 이진분류에서는 시그모이드 함수를 사용\n",
        "    - 다중분류는 소프트맥스(softmax)함수를 사용\n",
        "- 7개의 z값을 z1 ~ z7로 가정\n",
        "e_sum = e<sup>z1</sup> + e<sup>z2</sup> + e<sup>z3</sup> + e<sup>z4</sup> + e<sup>z5</sup> + e<sup>z6</sup> + e<sup>z7</sup>\n",
        "- 그 다음 e<sup>z1</sup> ~ e<sup>z7</sup> 까지 e_sum으로 나누면 됨\n",
        "- 그럼 각각의 값이 확률\n"
      ],
      "metadata": {
        "id": "8XRlhnXwNXTq"
      }
    },
    {
      "cell_type": "code",
      "source": [
        "print(lr.coef_.shape, lr.intercept_.shape)"
      ],
      "metadata": {
        "colab": {
          "base_uri": "https://localhost:8080/"
        },
        "id": "fIp0yECfM6Lr",
        "outputId": "56c9b0f1-cc94-442c-8827-e9f996debd49"
      },
      "execution_count": null,
      "outputs": [
        {
          "output_type": "stream",
          "name": "stdout",
          "text": [
            "(7, 5) (7,)\n"
          ]
        }
      ]
    },
    {
      "cell_type": "code",
      "source": [
        "decision = lr.decision_function(test_scaled[:5])\n",
        "print(np.round(decision, decimals = 2))"
      ],
      "metadata": {
        "colab": {
          "base_uri": "https://localhost:8080/"
        },
        "id": "CwhWxTBLP6fu",
        "outputId": "b61ed712-7561-46ae-bb0d-502dffc5e716"
      },
      "execution_count": null,
      "outputs": [
        {
          "output_type": "stream",
          "name": "stdout",
          "text": [
            "[[ -6.5    1.03   5.16  -2.73   3.34   0.33  -0.63]\n",
            " [-10.86   1.93   4.77  -2.4    2.98   7.84  -4.26]\n",
            " [ -4.34  -6.23   3.17   6.49   2.36   2.42  -3.87]\n",
            " [ -0.68   0.45   2.65  -1.19   3.26  -5.75   1.26]\n",
            " [ -6.4   -1.99   5.82  -0.11   3.5   -0.11  -0.71]]\n"
          ]
        }
      ]
    },
    {
      "cell_type": "code",
      "source": [
        "from scipy.special import softmax\n",
        "proba = softmax(decision, axis =1)\n",
        "print(np.round(proba, decimals = 3))"
      ],
      "metadata": {
        "colab": {
          "base_uri": "https://localhost:8080/"
        },
        "id": "0relv3qwQHTP",
        "outputId": "9cd6d091-8b20-4348-8b0b-8cdd2bf9df9e"
      },
      "execution_count": null,
      "outputs": [
        {
          "output_type": "stream",
          "name": "stdout",
          "text": [
            "[[0.    0.014 0.841 0.    0.136 0.007 0.003]\n",
            " [0.    0.003 0.044 0.    0.007 0.946 0.   ]\n",
            " [0.    0.    0.034 0.935 0.015 0.016 0.   ]\n",
            " [0.011 0.034 0.306 0.007 0.567 0.    0.076]\n",
            " [0.    0.    0.904 0.002 0.089 0.002 0.001]]\n"
          ]
        }
      ]
    },
    {
      "cell_type": "markdown",
      "source": [
        "# 확률적 경사 하강법"
      ],
      "metadata": {
        "id": "Lytd0gATEnSj"
      }
    },
    {
      "cell_type": "markdown",
      "source": [
        " 점진적 학습 : 전에 훈련된 모델을 버리지 않고, 앞으로 추가될 데이터들을 조금식 더 훈련하는 방법\n",
        "- 점진적 학습의 대표적인 알고리즘이 ***확률적 경사 하강법***이다\n",
        "    - 경사 하강이란 이미지는  산길을 내려갈 때 가장 빠른 길은 경사가 가장 가파른 길이다\n",
        "        - 확률적 경사 하강법에서 훈련세트를 한번 모두 사용하는 과정을 ***에포크***라고 한다.\n",
        "            - 일반적으로 경사하강법은 수십, 수백번 수행한다. \n",
        "        - 확률이란 랜덤하게 train_input데이터에서 데이터를 하나씩 뽑는 것이다. \n",
        "            - 하나의 데이터씩 말고 무작위의 몇개의 샘플을 사용해서 경사를 따라내려가는 경사하강법을 ***미니배치 경사 하강법*** 이라고 한다\n",
        "            - 극단적으로 한번 경사로를 따라 내려가기 위해 전체 샘플을 사용하는 방법을 ***배치경사 하강법***이라고 한다.\n",
        "    - 여기서 내려오는 산은 ***손실함수***라 부르는 산이다\n",
        "        - 손실함수는 어떤 문제에서 머신러닝 알고리즘이 얼마나 엉터리인지 측정하는 기준\n",
        "        - 손실함수의 값이 작을수록 좋지만, 어떤 값이 최솟값인지 모른다.\n",
        "            -  그래서 가능한 많이 찾아보고 만족할만한 수준이면 산을 내려왔다고 인정해야 함\n",
        "        - 산의 경사면은 연속적이므로 손실함수도 연속적, 즉 미분가능해야 한다\n",
        "\n"
      ],
      "metadata": {
        "id": "3r0pyvQZE_y_"
      }
    },
    {
      "cell_type": "markdown",
      "source": [
        "### 로지스틱 손실 함수\n"
      ],
      "metadata": {
        "id": "N81tRFxeNb8_"
      }
    },
    {
      "cell_type": "markdown",
      "source": [
        "- 예측확률을 0.9, 0.3, 0.2, 0.8로 가정해보기\n",
        "- "
      ],
      "metadata": {
        "id": "8BSTZcgqNvlF"
      }
    },
    {
      "cell_type": "markdown",
      "source": [
        "### SGDClassifier\n"
      ],
      "metadata": {
        "id": "VkMQbNH7GsuI"
      }
    },
    {
      "cell_type": "code",
      "source": [
        "import pandas as pd\n",
        "fish = pd.read_csv('https://bit.ly/fish_csv_data')"
      ],
      "metadata": {
        "id": "W6DY4-UMGwmH"
      },
      "execution_count": 20,
      "outputs": []
    },
    {
      "cell_type": "code",
      "source": [
        "fish_input = fish[['Weight', 'Length', 'Diagonal', 'Height', 'Width']].to_numpy()\n",
        "fish_target = fish['Species'].to_numpy()"
      ],
      "metadata": {
        "id": "GSkSWtITG_e8"
      },
      "execution_count": 21,
      "outputs": []
    },
    {
      "cell_type": "code",
      "source": [
        "from sklearn.model_selection import train_test_split\n",
        "\n",
        "train_input, test_input, train_target, test_target = train_test_split(fish_input, fish_target, random_state=42)"
      ],
      "metadata": {
        "id": "KEeVcmWuHXSr"
      },
      "execution_count": 22,
      "outputs": []
    },
    {
      "cell_type": "code",
      "source": [
        "from sklearn.preprocessing import StandardScaler\n",
        "ss = StandardScaler()\n",
        "ss.fit(train_input)\n",
        "train_scaled = ss.transform(train_input)\n",
        "test_scaled = ss.transform(test_input)"
      ],
      "metadata": {
        "id": "gPoVEJ38HwQH"
      },
      "execution_count": 23,
      "outputs": []
    },
    {
      "cell_type": "markdown",
      "source": [
        "- SGDClassifier 의 객체를 만들 때 2개의 매개변수를 지정한다 .\n",
        "    - loss는 손실함수의 종류를 지정\n",
        "        - 여기에선 loss = 'log'로 지정하여 로지스틱 손실함수를 지정\n",
        "    - max_iter은 수행할 에보크 횟수를 지정"
      ],
      "metadata": {
        "id": "B7Gb0pXVSHaB"
      }
    },
    {
      "cell_type": "code",
      "source": [
        "from sklearn.linear_model import SGDClassifier"
      ],
      "metadata": {
        "id": "ithHmF1bPPqp"
      },
      "execution_count": 24,
      "outputs": []
    },
    {
      "cell_type": "code",
      "source": [
        "sc = SGDClassifier(loss = 'log', max_iter = 10, random_state = 42)\n",
        "sc.fit(train_scaled, train_target)\n",
        "print(sc.score(train_scaled, train_target))\n",
        "print(sc.score(test_scaled, test_target))"
      ],
      "metadata": {
        "colab": {
          "base_uri": "https://localhost:8080/"
        },
        "id": "GJhag_K6PV3f",
        "outputId": "0878b7c9-8b82-4ea8-ad2d-853d31cf8571"
      },
      "execution_count": 35,
      "outputs": [
        {
          "output_type": "stream",
          "name": "stdout",
          "text": [
            "0.8403361344537815\n",
            "0.8\n"
          ]
        }
      ]
    },
    {
      "cell_type": "markdown",
      "source": [
        "- 정확도가 낮다. 지정한 반복횟수 10번이 부족하다.\n",
        "- partial_fit()메서드는 fit메서드와 사용법이 같지만 호출할 때마다 1 에보크씩 이어서 훈련가능"
      ],
      "metadata": {
        "id": "JIb-K_wiSnUK"
      }
    },
    {
      "cell_type": "code",
      "source": [
        "sc.partial_fit(train_scaled, train_target)\n",
        "print(sc.score(train_scaled, train_target))\n",
        "print(sc.score(test_scaled, test_target))"
      ],
      "metadata": {
        "colab": {
          "base_uri": "https://localhost:8080/"
        },
        "id": "ohKn2UCjPvGB",
        "outputId": "eb341d1d-fc34-4c7d-9a25-088a5148bbbc"
      },
      "execution_count": 27,
      "outputs": [
        {
          "output_type": "stream",
          "name": "stdout",
          "text": [
            "0.7815126050420168\n",
            "0.8\n"
          ]
        }
      ]
    },
    {
      "cell_type": "markdown",
      "source": [
        "### 에보크의 과대/ 과소적합"
      ],
      "metadata": {
        "id": "HWB11L3NTs6L"
      }
    },
    {
      "cell_type": "markdown",
      "source": [
        "- 에보크 횟수가 적으면 모델이 훈련을 덜 학습해서 과소적합이 발생\n",
        "- 에보코 횟수가 많으면 과대적합이 발생\n",
        "- 과소적합에서 과대적합으로 진행될 때 과대적합이 시작하기 전 훈련을 멈추는 것을 ***조기종료*** 라고 한다 \n",
        "- unique() 함수로 train_target안에 있는 7개의 생선목록 생성\n",
        "- 각 에보크마다 훈련세트와 테스트세트의 대한 점수 기록"
      ],
      "metadata": {
        "id": "TqRjudqfTyya"
      }
    },
    {
      "cell_type": "code",
      "source": [
        "import numpy as np\n",
        "sc = SGDClassifier(loss='log', random_state = 42)\n",
        "train_score = []\n",
        "test_score = []\n",
        "classes = np.unique(train_target)"
      ],
      "metadata": {
        "id": "fr5gEaagUltu"
      },
      "execution_count": 36,
      "outputs": []
    },
    {
      "cell_type": "code",
      "source": [
        "for _ in range(0,300):\n",
        "    sc.partial_fit(train_scaled, train_target, classes=classes)\n",
        "    train_score.append(sc.score(train_scaled, train_target))\n",
        "    test_score.append(sc.score(test_scaled, test_target))"
      ],
      "metadata": {
        "id": "ozuQwz7yVAPa"
      },
      "execution_count": 38,
      "outputs": []
    },
    {
      "cell_type": "code",
      "source": [
        "import matplotlib.pyplot as plt\n",
        "plt.plot(train_score)\n",
        "plt.plot(test_score)\n",
        "plt.xlabel('epoch')\n",
        "plt.ylabel('accurcy')\n",
        "plt.show()"
      ],
      "metadata": {
        "colab": {
          "base_uri": "https://localhost:8080/",
          "height": 279
        },
        "id": "W9xURXmfVZCt",
        "outputId": "bdd239cb-a21f-4310-c9de-b9729b2245da"
      },
      "execution_count": 40,
      "outputs": [
        {
          "output_type": "display_data",
          "data": {
            "image/png": "[encoded data removed]",
            "text/plain": [
              "<Figure size 432x288 with 1 Axes>"
            ]
          },
          "metadata": {
            "needs_background": "light"
          }
        }
      ]
    },
    {
      "cell_type": "markdown",
      "source": [
        "- 100번째 에보크 이후 과대적합이 되어가고 있다. \n",
        "- tol 매개변수는 반복을 멈출 조건이다, 기본값은 5다"
      ],
      "metadata": {
        "id": "VQchty_TXnGc"
      }
    },
    {
      "cell_type": "code",
      "source": [
        "sc = SGDClassifier(loss = 'log', max_iter = 100, tol = None, random_state = 42)\n",
        "sc.fit(train_scaled, train_target)\n",
        "print(sc.score(train_scaled, train_target))\n",
        "print(sc.score(test_scaled, test_target))"
      ],
      "metadata": {
        "colab": {
          "base_uri": "https://localhost:8080/"
        },
        "id": "jMi86epgVwgP",
        "outputId": "45d1c95c-cd39-4d53-9f36-73b1bbb30cd3"
      },
      "execution_count": 43,
      "outputs": [
        {
          "output_type": "stream",
          "name": "stdout",
          "text": [
            "0.957983193277311\n",
            "0.925\n"
          ]
        }
      ]
    },
    {
      "cell_type": "markdown",
      "source": [
        "- loss의 매개변수는 원래 hinge이다. \n",
        "- 힌지손실은 서포트 벡터 머신이라 불리는 또 다른 머신러닝 알고리즘을 위한 손실함수\n",
        "- SGDClassifier 라이브러리가 여러가지 손실함수를 loss 매개변수에 지정하여 다양한 머신러닝 알고리즘을 지원함"
      ],
      "metadata": {
        "id": "sPZs7nITXtpT"
      }
    },
    {
      "cell_type": "code",
      "source": [
        "sc = SGDClassifier(loss = 'hinge', max_iter = 100, tol = None, random_state = 42)\n",
        "sc.fit(train_scaled, train_target)\n",
        "print(sc.score(train_scaled, train_target))\n",
        "print(sc.score(test_scaled, test_target))"
      ],
      "metadata": {
        "colab": {
          "base_uri": "https://localhost:8080/"
        },
        "id": "Im2ox6vrWOLs",
        "outputId": "baef9875-fec6-440a-8c83-736eb0be3fa0"
      },
      "execution_count": 44,
      "outputs": [
        {
          "output_type": "stream",
          "name": "stdout",
          "text": [
            "0.9495798319327731\n",
            "0.925\n"
          ]
        }
      ]
    }
  ]
}